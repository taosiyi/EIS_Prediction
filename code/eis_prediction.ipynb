{
 "cells": [
  {
   "cell_type": "markdown",
   "id": "6ef54675",
   "metadata": {},
   "source": [
    "# train"
   ]
  },
  {
   "cell_type": "code",
   "execution_count": null,
   "id": "a0d8d739",
   "metadata": {},
   "outputs": [],
   "source": [
    "# Case1: \n",
    "rest_len = 14\n",
    "eis_len = 107\n",
    "directory_path = r\"data_120s\\train\"\n",
    "\n",
    "# Case2: \n",
    "rest_len = 120  # 120: 60min / 60: 30min / 20: 10min\n",
    "eis_len = 36\n",
    "directory_path = r\"data_K\\train\"\n"
   ]
  },
  {
   "cell_type": "markdown",
   "id": "0648f348",
   "metadata": {},
   "source": [
    "## Transformer"
   ]
  },
  {
   "cell_type": "code",
   "execution_count": null,
   "id": "9c4fb954",
   "metadata": {},
   "outputs": [],
   "source": [
    "import torch\n",
    "from models import MultiFeatureTransformer\n",
    "from train import train_model\n",
    "\n",
    "device = torch.device(\"cuda\" if torch.cuda.is_available() else \"cpu\")\n",
    "print(f\"Using device: {device}\")\n",
    "\n",
    "model_dir = \"model\"\n",
    "model = MultiFeatureTransformer(\n",
    "    input_dim = 4,\n",
    "    output_dim = 2,\n",
    "    seq_len_in = rest_len,\n",
    "    seq_len_out = eis_len-1,\n",
    "    d_model = 256,\n",
    "    nhead = 4,\n",
    "    num_layers = 6\n",
    "    )\n",
    "\n",
    "train_model(model, directory_path, device, model_dir, \"Transformer\", rest_len, eis_len, epochs=10)\n"
   ]
  },
  {
   "cell_type": "markdown",
   "id": "a15f2442",
   "metadata": {},
   "source": [
    "## BiLSTM"
   ]
  },
  {
   "cell_type": "code",
   "execution_count": null,
   "id": "e11260ea",
   "metadata": {},
   "outputs": [],
   "source": [
    "import torch\n",
    "from models import ImprovedBiLSTMModel\n",
    "from train import train_model\n",
    "\n",
    "device = torch.device(\"cuda\" if torch.cuda.is_available() else \"cpu\")\n",
    "print(f\"Using device: {device}\")\n",
    "\n",
    "# ================ BiLSTM ================\n",
    "model_dir = \"model_BiLSTM\"\n",
    "bilstm_model = ImprovedBiLSTMModel(\n",
    "    input_dim=4, \n",
    "    output_dim=2, \n",
    "    hidden_dim=128, \n",
    "    seq_len_in=rest_len,\n",
    "    seq_len_out=eis_len-1,\n",
    "    num_layers=3,\n",
    "    dropout=0.3\n",
    "    )\n",
    "\n",
    "train_model(bilstm_model, directory_path, device, model_dir, \"BiLSTM\", rest_len, eis_len, epochs=1000)"
   ]
  },
  {
   "cell_type": "code",
   "execution_count": null,
   "id": "eb962c82",
   "metadata": {},
   "outputs": [],
   "source": [
    "import torch\n",
    "from models import GCNSeq2Seq\n",
    "from train import train_model\n",
    "\n",
    "device = torch.device(\"cuda\" if torch.cuda.is_available() else \"cpu\")\n",
    "print(f\"Using device: {device}\")\n",
    "\n",
    "# ================ GCN ================\n",
    "model_dir = \"model_GCN\"\n",
    "gcn_model = GCNSeq2Seq(\n",
    "    in_features=4,\n",
    "    hidden_dim=64,\n",
    "    out_features=2,\n",
    "    input_len=rest_len,\n",
    "    output_len=eis_len-1\n",
    ")\n",
    "\n",
    "edge_index = torch.tensor([[0, 0, 1, 1, 2, 2, 3, 3],\n",
    "                           [1, 2, 0, 3, 0, 1, 1, 2]], dtype=torch.long)\n",
    "\n",
    "# edge_index = torch.tensor([\n",
    "#     [0, 0, 1, 1, 1, 2, 2, 3, 3, 3],\n",
    "#     [1, 3, 0, 2, 3, 1, 3, 0, 1, 2]\n",
    "# ], dtype=torch.long)\n",
    "\n",
    "train_model(gcn_model, directory_path, device, model_dir, \"GCN\", rest_len, eis_len, epochs=1000, lr=1e-3, edge_index=edge_index)\n"
   ]
  },
  {
   "cell_type": "markdown",
   "id": "dac37126",
   "metadata": {},
   "source": [
    "# test"
   ]
  },
  {
   "cell_type": "code",
   "execution_count": null,
   "id": "9990594d",
   "metadata": {},
   "outputs": [],
   "source": [
    "# Case1: \n",
    "data_path = r\"data_120s\\test\"\n",
    "\n",
    "# Case2:\n",
    "data_path = r\"data_K\\test\"\n"
   ]
  },
  {
   "cell_type": "markdown",
   "id": "64ddc365",
   "metadata": {},
   "source": [
    "## Transformer"
   ]
  },
  {
   "cell_type": "code",
   "execution_count": null,
   "id": "03e01ffd",
   "metadata": {},
   "outputs": [],
   "source": [
    "import time\n",
    "import os\n",
    "from test_my import extract_number_rest,extract_number_eis,test_result_get_single,extract_info,save_single_eis_results_as_pkl\n",
    "from models import ImprovedBiLSTMModel\n",
    "\n",
    "model_path = \"model\"\n",
    "result_dir = \"result\"\n",
    "model = MultiFeatureTransformer(\n",
    "    input_dim = 4,\n",
    "    output_dim = 2,\n",
    "    seq_len_in = rest_len,\n",
    "    seq_len_out = eis_len-1,\n",
    "    d_model = 256,\n",
    "    nhead = 4,\n",
    "    num_layers = 6\n",
    "    )\n",
    "\n",
    "start_time = time.time()\n",
    "\n",
    "for cell in os.listdir(data_path):\n",
    "    print(cell)\n",
    "    cell_path = os.path.join(data_path, cell)\n",
    "\n",
    "    if os.path.isdir(cell_path):\n",
    "        print(f\"Running test for cell: {cell}\")\n",
    "\n",
    "        cell_path = rf\"{data_path}\\{cell}\"\n",
    "        \n",
    "        input_files = [f for f in os.listdir(cell_path) if f.endswith(\".pkl\") and 'rest_' in f]\n",
    "        sorted_input_files = sorted(input_files, key=lambda x: extract_number_rest(x))\n",
    "\n",
    "        output_files = [f for f in os.listdir(cell_path) if f.endswith(\".pkl\") and 'eis_' in f]\n",
    "        sorted_output_files = sorted(output_files, key=lambda x: extract_number_eis(x))\n",
    "\n",
    "        for input_file, output_file in zip(sorted_input_files,sorted_output_files):\n",
    "            test_preds = test_result_get_single(model_path, cell_path, input_file, model)\n",
    "\n",
    "            eis_number, cap_value = extract_info(output_file)\n",
    "            result_file = rf\"{result_dir}\\{cell}\\predicted_eis_{eis_number}_cap_{cap_value}.pkl\"\n",
    "\n",
    "            save_single_eis_results_as_pkl(rest_len, test_preds, result_file, cell_path, output_file)\n",
    "\n",
    "end_time = time.time()\n",
    "test_duration = end_time - start_time\n",
    "print(f\"Time: {test_duration:.2f} seconds\")\n"
   ]
  },
  {
   "cell_type": "markdown",
   "id": "570813d8",
   "metadata": {},
   "source": [
    "## BiLSTM"
   ]
  },
  {
   "cell_type": "code",
   "execution_count": null,
   "id": "a5c6fb72",
   "metadata": {},
   "outputs": [],
   "source": [
    "import time\n",
    "import os\n",
    "from test_my import extract_number_rest,extract_number_eis,test_result_get_single,extract_info,save_single_eis_results_as_pkl\n",
    "from models import ImprovedBiLSTMModel\n",
    "\n",
    "# ================ BiLSTM ================\n",
    "model_path = \"model_BiLSTM\"\n",
    "result_dir = \"result_BiLSTM\"\n",
    "model = ImprovedBiLSTMModel(\n",
    "    input_dim=4, \n",
    "    output_dim=2, \n",
    "    hidden_dim=128, \n",
    "    seq_len_in=rest_len,\n",
    "    seq_len_out=eis_len-1,\n",
    "    num_layers=3,\n",
    "    dropout=0.3\n",
    "    )\n",
    "\n",
    "start_time = time.time()\n",
    "\n",
    "for cell in os.listdir(data_path):\n",
    "    print(cell)\n",
    "    cell_path = os.path.join(data_path, cell)\n",
    "\n",
    "    if os.path.isdir(cell_path):\n",
    "        print(f\"Running test for cell: {cell}\")\n",
    "\n",
    "        cell_path = rf\"{data_path}\\{cell}\"\n",
    "        \n",
    "        input_files = [f for f in os.listdir(cell_path) if f.endswith(\".pkl\") and 'rest_' in f]\n",
    "        sorted_input_files = sorted(input_files, key=lambda x: extract_number_rest(x))\n",
    "\n",
    "        output_files = [f for f in os.listdir(cell_path) if f.endswith(\".pkl\") and 'eis_' in f]\n",
    "        sorted_output_files = sorted(output_files, key=lambda x: extract_number_eis(x))\n",
    "\n",
    "        for input_file, output_file in zip(sorted_input_files,sorted_output_files):\n",
    "            test_preds = test_result_get_single(model_path, cell_path, input_file, model)\n",
    "\n",
    "            eis_number, cap_value = extract_info(output_file)\n",
    "            result_file = rf\"{result_dir}\\{cell}\\predicted_eis_{eis_number}_cap_{cap_value}.pkl\"\n",
    "\n",
    "            save_single_eis_results_as_pkl(rest_len, test_preds, result_file, cell_path, output_file)\n",
    "\n",
    "end_time = time.time()\n",
    "test_duration = end_time - start_time\n",
    "print(f\"Time: {test_duration:.2f} seconds\")\n"
   ]
  },
  {
   "cell_type": "markdown",
   "id": "85c632c4",
   "metadata": {},
   "source": [
    "## GCN"
   ]
  },
  {
   "cell_type": "code",
   "execution_count": null,
   "id": "0363f5c5",
   "metadata": {},
   "outputs": [],
   "source": [
    "import time\n",
    "import os\n",
    "import torch\n",
    "from test_my import extract_number_rest,extract_number_eis,test_result_get_single,extract_info,save_single_eis_results_as_pkl\n",
    "from models import GCNSeq2Seq\n",
    "\n",
    "# ================ GCN ================\n",
    "model_path = \"model_GCN\"\n",
    "result_dir = \"result_GCN\"\n",
    "model = GCNSeq2Seq(\n",
    "    in_features=4,\n",
    "    hidden_dim=64,\n",
    "    out_features=2,\n",
    "    input_len=rest_len,\n",
    "    output_len=eis_len-1\n",
    ")\n",
    "\n",
    "edge_index = torch.tensor([\n",
    "    [0, 0, 1, 1, 1, 2, 2, 3, 3, 3],\n",
    "    [1, 3, 0, 2, 3, 1, 3, 0, 1, 2]\n",
    "], dtype=torch.long)\n",
    "\n",
    "start_time = time.time()  # 记录开始时间\n",
    "\n",
    "for cell in os.listdir(data_path):\n",
    "    print(cell)\n",
    "    cell_path = os.path.join(data_path, cell)\n",
    "\n",
    "    if os.path.isdir(cell_path):\n",
    "        print(f\"Running test for cell: {cell}\")\n",
    "\n",
    "        cell_path = rf\"{data_path}\\{cell}\"\n",
    "        \n",
    "        # 获取文件夹中的文件列表\n",
    "        input_files = [f for f in os.listdir(cell_path) if f.endswith(\".pkl\") and 'rest_' in f]\n",
    "        sorted_input_files = sorted(input_files, key=lambda x: extract_number_rest(x))\n",
    "\n",
    "        output_files = [f for f in os.listdir(cell_path) if f.endswith(\".pkl\") and 'eis_' in f]\n",
    "        sorted_output_files = sorted(output_files, key=lambda x: extract_number_eis(x))\n",
    "\n",
    "        for input_file, output_file in zip(sorted_input_files,sorted_output_files):\n",
    "            test_preds = test_result_get_single(model_path, cell_path, input_file, model, edge_index)\n",
    "\n",
    "            eis_number, cap_value = extract_info(output_file)\n",
    "            result_file = rf\"{result_dir}\\{cell}\\predicted_eis_{eis_number}_cap_{cap_value}.pkl\"\n",
    "\n",
    "            save_single_eis_results_as_pkl(test_preds, result_file, cell_path, output_file)\n",
    "\n",
    "end_time = time.time()\n",
    "test_duration = end_time - start_time\n",
    "print(f\"Time: {test_duration:.2f} seconds\")\n"
   ]
  },
  {
   "cell_type": "markdown",
   "id": "fa3d1916",
   "metadata": {},
   "source": [
    "# Result"
   ]
  },
  {
   "cell_type": "code",
   "execution_count": null,
   "id": "5dd92593",
   "metadata": {},
   "outputs": [],
   "source": [
    "from test_my import error_excel_get\n",
    "import os\n",
    "\n",
    "result_path = \"result\"\n",
    "# result_path = \"result_GCN\"\n",
    "# result_path = \"result_BiLSTM\"\n",
    "\n",
    "cell_folders = [f for f in os.listdir(result_path) if os.path.isdir(os.path.join(result_path, f))]\n",
    "\n",
    "for cell in cell_folders:\n",
    "    cell_path = os.path.join(result_path,cell)\n",
    "    save_path = os.path.join(result_path, f\"{cell}.xlsx\")\n",
    "    error_excel_get(cell_path, save_path, cell)\n"
   ]
  },
  {
   "cell_type": "code",
   "execution_count": null,
   "id": "fb0563c1",
   "metadata": {},
   "outputs": [],
   "source": []
  }
 ],
 "metadata": {
  "kernelspec": {
   "display_name": "myenv_py313",
   "language": "python",
   "name": "python3"
  },
  "language_info": {
   "codemirror_mode": {
    "name": "ipython",
    "version": 3
   },
   "file_extension": ".py",
   "mimetype": "text/x-python",
   "name": "python",
   "nbconvert_exporter": "python",
   "pygments_lexer": "ipython3",
   "version": "3.13.6"
  }
 },
 "nbformat": 4,
 "nbformat_minor": 5
}
